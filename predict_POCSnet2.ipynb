{
 "cells": [
  {
   "cell_type": "code",
   "execution_count": null,
   "metadata": {
    "scrolled": true
   },
   "outputs": [],
   "source": [
    "import os\n",
    "import matplotlib.pyplot as plt\n",
    "import numpy as np\n",
    "import random\n",
    "import tensorflow as tf\n",
    "from model_structures import *\n",
    "from data_loader import *\n",
    "from loss_func import *\n",
    "from QSM_func import *\n",
    "import datetime\n",
    "import scipy.io as sio"
   ]
  },
  {
   "cell_type": "code",
   "execution_count": null,
   "metadata": {},
   "outputs": [],
   "source": [
    "os.environ[\"CUDA_DEVICE_ORDER\"]=\"PCI_BUS_ID\"\n",
    "os.environ[\"CUDA_VISIBLE_DEVICES\"]='0'"
   ]
  },
  {
   "cell_type": "code",
   "execution_count": null,
   "metadata": {},
   "outputs": [],
   "source": [
    "opt = {}\n",
    "\n",
    "'''cosmos'''\n",
    "opt['train_path'] = '/home/sylar/data/invivo/data'\n",
    "opt['train_img1_path'] = '/msk'\n",
    "opt['train_img2_path'] = '/phs_tissue'\n",
    "opt['train_label_path'] = '/chi_cosmos'\n",
    "\n",
    "\n",
    "opt['patch_size'] = (160,160,160)\n",
    "opt['reso'] = (1.06,1.06,1.06)\n",
    "\n",
    "opt['lbd2'] = 0.1\n",
    "opt['iter'] = 5\n",
    "opt['batch_size'] = 1\n",
    "opt['channels'] = 1\n",
    "opt['img_shape'] = opt['patch_size'] + (opt['channels'],)\n",
    "opt['in_shape'] = opt['patch_size'] + (1,)\n",
    "opt['rnd_crop'] = False\n",
    "\n",
    "opt['model_restored_epoch'] = 60\n",
    "\n",
    "opt['loss'] = nrmse\n",
    "\n",
    "opt['display_nums'] = [80,50,30]\n",
    "\n",
    "opt['model_save_path'] = '/home/sylar/data/results/model1_revision/dp_inv_at2_c16_991'\n",
    "opt['out_dir'] = '/home/sylar/data/invivo/data/at_vs_test/'\n",
    "opt['checkpoint_path'] = opt['model_save_path']+\"/cp{epoch}\""
   ]
  },
  {
   "cell_type": "code",
   "execution_count": null,
   "metadata": {},
   "outputs": [],
   "source": [
    "opt['train_index'] = list(range(1,9))"
   ]
  },
  {
   "cell_type": "code",
   "execution_count": null,
   "metadata": {
    "scrolled": true
   },
   "outputs": [],
   "source": [
    "opt['test_data'] = Data_loaders_invivo2(opt)\n",
    "x1_test, x2_test, y_test = opt['test_data'].next([0],opt)\n",
    "print(opt['test_data'].data_size)"
   ]
  },
  {
   "cell_type": "code",
   "execution_count": null,
   "metadata": {},
   "outputs": [],
   "source": [
    "'''loading data preview'''\n",
    "ch,cw,cd = findcenter3d(y_test[0])\n",
    "aa=cw\n",
    "dd=cd\n",
    "\n",
    "f, axarr = plt.subplots(2, 3, figsize=(20, 10))\n",
    "axarr[1,0].imshow(np.flip(np.transpose(x1_test[0,:,aa,:,0].squeeze()),0))\n",
    "axarr[1,0].axis('off')\n",
    "axarr[0,2].imshow(np.transpose(y_test[0,:,:,dd].squeeze()))\n",
    "axarr[0,2].axis('off')\n",
    "axarr[0,0].imshow(np.transpose(x1_test[0,:,:,dd,0].squeeze()))\n",
    "axarr[0,0].axis('off')\n",
    "axarr[1,1].imshow(np.flip(np.transpose(x2_test[0,:,aa,:].squeeze()),0))\n",
    "axarr[1,1].axis('off')\n",
    "axarr[1,2].imshow(np.flip(np.transpose(y_test[0,:,aa,:].squeeze()),0))\n",
    "axarr[1,2].axis('off')\n",
    "axarr[0,1].imshow(np.transpose(x2_test[0,:,:,dd].squeeze()))\n",
    "axarr[0,1].axis('off')\n",
    "plt.show()"
   ]
  },
  {
   "cell_type": "code",
   "execution_count": null,
   "metadata": {
    "scrolled": true
   },
   "outputs": [],
   "source": [
    "# tf.compat.v1.disable_eager_execution()\n",
    "model = {}\n",
    "\n",
    "model['vnet'] = unet_at2(opt, 1)\n",
    "x = Input(shape=opt['img_shape'])\n",
    "\n",
    "model['vnet'].load_weights(opt['checkpoint_path'].format(epoch = opt['model_restored_epoch']))\n"
   ]
  },
  {
   "cell_type": "code",
   "execution_count": null,
   "metadata": {
    "scrolled": false
   },
   "outputs": [],
   "source": [
    "nr_im = opt['test_data'].data_size\n",
    "start_time = datetime.datetime.now()\n",
    "D = dipole_kernel(opt)\n",
    "\n",
    "nr_im_per_epoch = int(np.ceil(nr_im/ opt['batch_size']) * opt['batch_size'])\n",
    "if nr_im < opt['batch_size']:\n",
    "    order = list(range(nr_im)) + [nr_im-1]*(opt['batch_size']-nr_im)\n",
    "else:\n",
    "    order = list(range(nr_im)) + list(range(nr_im_per_epoch - nr_im))\n",
    "\n",
    "avg_img_cost = []\n",
    "\n",
    "for block_i in range(0, opt['test_data'].data_size, opt['batch_size']):\n",
    "\n",
    "    indices = order[block_i:block_i + opt['batch_size']]\n",
    "    x1_test, x2_test, y_test = opt['test_data'].next(indices,opt)\n",
    "\n",
    "    x = x2_test\n",
    "    print('-----subject-----'+str(block_i+1)+'/'+str(nr_im_per_epoch))\n",
    "\n",
    "    x_k = phase2qsm(x,D,opt)\n",
    "    for it in range(opt['iter']):\n",
    "        net_out = model['vnet'].predict(x_k.numpy())\n",
    "\n",
    "        #updata x_k, qsm\n",
    "        x_k = phase2qsm(x,D,opt) + opt['lbd2']*phaseinv(net_out,D,opt)\n",
    "\n",
    "    m_loss = np.linalg.norm(x_k*x1_test-y_test)/np.linalg.norm(y_test)\n",
    "    # Plot the progress\n",
    "    print (\"[Batch %d/%d] [Model loss: %f]\" % (block_i+1, nr_im_per_epoch, m_loss))\n",
    "    avg_img_cost.append(m_loss)\n",
    "\n",
    "    s = 1\n",
    "    save_nii((net_out*x1_test/s).squeeze(), opt['reso'],  opt['out_dir'], 'pocsnet_net_qsm')\n",
    "    save_nii((x_k.numpy()*x1_test/s).squeeze(), opt['reso'],  opt['out_dir'], 'pocsnet_model_qsm')\n",
    "    \n",
    "#     if block_i+1 == opt['test_data'].data_size/opt['batch_num'] or block_i==0:\n",
    "    display_slice(opt['display_nums'], net_out/s, x_k.numpy()/s, y_test/s)\n",
    "epoch_loss = np.mean(avg_img_cost)\n",
    "\n",
    "print(\"Testing_cost=\", \"{:.5f}\".format(epoch_loss))\n",
    "            \n",
    "elapsed_time = datetime.datetime.now() - start_time\n",
    "print(elapsed_time)"
   ]
  },
  {
   "cell_type": "code",
   "execution_count": null,
   "metadata": {},
   "outputs": [],
   "source": []
  }
 ],
 "metadata": {
  "kernelspec": {
   "display_name": "Python 3",
   "language": "python",
   "name": "python3"
  },
  "language_info": {
   "codemirror_mode": {
    "name": "ipython",
    "version": 3
   },
   "file_extension": ".py",
   "mimetype": "text/x-python",
   "name": "python",
   "nbconvert_exporter": "python",
   "pygments_lexer": "ipython3",
   "version": "3.7.6"
  },
  "varInspector": {
   "cols": {
    "lenName": 16,
    "lenType": 16,
    "lenVar": 40
   },
   "kernels_config": {
    "python": {
     "delete_cmd_postfix": "",
     "delete_cmd_prefix": "del ",
     "library": "var_list.py",
     "varRefreshCmd": "print(var_dic_list())"
    },
    "r": {
     "delete_cmd_postfix": ") ",
     "delete_cmd_prefix": "rm(",
     "library": "var_list.r",
     "varRefreshCmd": "cat(var_dic_list()) "
    }
   },
   "types_to_exclude": [
    "module",
    "function",
    "builtin_function_or_method",
    "instance",
    "_Feature"
   ],
   "window_display": false
  }
 },
 "nbformat": 4,
 "nbformat_minor": 4
}
